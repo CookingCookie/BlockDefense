{
  "nbformat": 4,
  "nbformat_minor": 0,
  "metadata": {
    "colab": {
      "name": "Snowman.ipynb",
      "version": "0.3.2",
      "provenance": [],
      "collapsed_sections": [],
      "include_colab_link": true
    },
    "kernelspec": {
      "name": "python3",
      "display_name": "Python 3"
    },
    "accelerator": "GPU"
  },
  "cells": [
    {
      "cell_type": "markdown",
      "metadata": {
        "id": "view-in-github",
        "colab_type": "text"
      },
      "source": [
        "<a href=\"https://colab.research.google.com/github/CookingCookie/BlockDefense/blob/master/Snowman.ipynb\" target=\"_parent\"><img src=\"https://colab.research.google.com/assets/colab-badge.svg\" alt=\"Open In Colab\"/></a>"
      ]
    },
    {
      "cell_type": "code",
      "metadata": {
        "id": "9ZbK6BJ2MYmi",
        "colab_type": "code",
        "colab": {
          "base_uri": "https://localhost:8080/",
          "height": 581
        },
        "outputId": "cea51b64-4822-47cf-d8c6-2aa4d304f020"
      },
      "source": [
        "!pip3 install awscli"
      ],
      "execution_count": 1,
      "outputs": [
        {
          "output_type": "stream",
          "text": [
            "Collecting awscli\n",
            "\u001b[?25l  Downloading https://files.pythonhosted.org/packages/64/b2/ff159523ec4f7f4284f04f1059bcd15236ad90c4b0136a22857c5ebef8bf/awscli-1.16.166-py2.py3-none-any.whl (1.6MB)\n",
            "\u001b[K     |████████████████████████████████| 1.6MB 9.1MB/s \n",
            "\u001b[?25hRequirement already satisfied: s3transfer<0.3.0,>=0.2.0 in /usr/local/lib/python3.6/dist-packages (from awscli) (0.2.0)\n",
            "Collecting colorama<=0.3.9,>=0.2.5 (from awscli)\n",
            "  Downloading https://files.pythonhosted.org/packages/db/c8/7dcf9dbcb22429512708fe3a547f8b6101c0d02137acbd892505aee57adf/colorama-0.3.9-py2.py3-none-any.whl\n",
            "Requirement already satisfied: PyYAML<=3.13,>=3.10 in /usr/local/lib/python3.6/dist-packages (from awscli) (3.13)\n",
            "Collecting botocore==1.12.156 (from awscli)\n",
            "\u001b[?25l  Downloading https://files.pythonhosted.org/packages/f5/aa/79fc47ccc3c7d0f36aafb9d85091d7d8a8f10d8ad24ccf3a89cf126b9f4e/botocore-1.12.156-py2.py3-none-any.whl (5.4MB)\n",
            "\u001b[K     |████████████████████████████████| 5.4MB 46.2MB/s \n",
            "\u001b[?25hRequirement already satisfied: docutils>=0.10 in /usr/local/lib/python3.6/dist-packages (from awscli) (0.14)\n",
            "Collecting rsa<=3.5.0,>=3.1.2 (from awscli)\n",
            "\u001b[?25l  Downloading https://files.pythonhosted.org/packages/e1/ae/baedc9cb175552e95f3395c43055a6a5e125ae4d48a1d7a924baca83e92e/rsa-3.4.2-py2.py3-none-any.whl (46kB)\n",
            "\u001b[K     |████████████████████████████████| 51kB 22.3MB/s \n",
            "\u001b[?25hRequirement already satisfied: urllib3<1.26,>=1.20; python_version >= \"3.4\" in /usr/local/lib/python3.6/dist-packages (from botocore==1.12.156->awscli) (1.24.3)\n",
            "Requirement already satisfied: python-dateutil<3.0.0,>=2.1; python_version >= \"2.7\" in /usr/local/lib/python3.6/dist-packages (from botocore==1.12.156->awscli) (2.5.3)\n",
            "Requirement already satisfied: jmespath<1.0.0,>=0.7.1 in /usr/local/lib/python3.6/dist-packages (from botocore==1.12.156->awscli) (0.9.4)\n",
            "Requirement already satisfied: pyasn1>=0.1.3 in /usr/local/lib/python3.6/dist-packages (from rsa<=3.5.0,>=3.1.2->awscli) (0.4.5)\n",
            "Requirement already satisfied: six>=1.5 in /usr/local/lib/python3.6/dist-packages (from python-dateutil<3.0.0,>=2.1; python_version >= \"2.7\"->botocore==1.12.156->awscli) (1.12.0)\n",
            "Installing collected packages: colorama, botocore, rsa, awscli\n",
            "  Found existing installation: botocore 1.12.153\n",
            "    Uninstalling botocore-1.12.153:\n",
            "      Successfully uninstalled botocore-1.12.153\n",
            "  Found existing installation: rsa 4.0\n",
            "    Uninstalling rsa-4.0:\n",
            "      Successfully uninstalled rsa-4.0\n",
            "Successfully installed awscli-1.16.166 botocore-1.12.156 colorama-0.3.9 rsa-3.4.2\n"
          ],
          "name": "stdout"
        },
        {
          "output_type": "display_data",
          "data": {
            "application/vnd.colab-display-data+json": {
              "pip_warning": {
                "packages": [
                  "rsa"
                ]
              }
            }
          },
          "metadata": {
            "tags": []
          }
        }
      ]
    },
    {
      "cell_type": "code",
      "metadata": {
        "id": "Fk2nHm_oW4Ag",
        "colab_type": "code",
        "colab": {
          "base_uri": "https://localhost:8080/",
          "height": 1513
        },
        "outputId": "647257cb-2ccf-4ed1-92c7-f536f27c45be"
      },
      "source": [
        "!wget https://storage.googleapis.com/openimages/2018_04/class-descriptions-boxable.csv\n",
        "!wget https://storage.googleapis.com/openimages/2018_04/train/train-annotations-bbox.csv\n",
        "!wget https://raw.githubusercontent.com/spmallick/learnopencv/master/YOLOv3-Training-Snowman-Detector/classes.names\n",
        "!wget https://raw.githubusercontent.com/spmallick/learnopencv/master/YOLOv3-Training-Snowman-Detector/darknet-yolov3.cfg\n",
        "!wget https://raw.githubusercontent.com/spmallick/learnopencv/master/YOLOv3-Training-Snowman-Detector/getDataFromOpenImages_snowman.py\n",
        "!wget https://raw.githubusercontent.com/spmallick/learnopencv/master/YOLOv3-Training-Snowman-Detector/object_detection_yolo.py\n",
        "!wget https://raw.githubusercontent.com/spmallick/learnopencv/master/YOLOv3-Training-Snowman-Detector/plotTrainLoss.py\n",
        "!wget https://raw.githubusercontent.com/spmallick/learnopencv/master/YOLOv3-Training-Snowman-Detector/splitTrainAndTest.py"
      ],
      "execution_count": 1,
      "outputs": [
        {
          "output_type": "stream",
          "text": [
            "--2019-05-25 18:58:15--  https://storage.googleapis.com/openimages/2018_04/class-descriptions-boxable.csv\n",
            "Resolving storage.googleapis.com (storage.googleapis.com)... 108.177.126.128, 2a00:1450:4013:c01::80\n",
            "Connecting to storage.googleapis.com (storage.googleapis.com)|108.177.126.128|:443... connected.\n",
            "HTTP request sent, awaiting response... 200 OK\n",
            "Length: 11255 (11K) [text/csv]\n",
            "Saving to: ‘class-descriptions-boxable.csv’\n",
            "\n",
            "\r          class-des   0%[                    ]       0  --.-KB/s               \rclass-descriptions- 100%[===================>]  10.99K  --.-KB/s    in 0s      \n",
            "\n",
            "2019-05-25 18:58:15 (74.6 MB/s) - ‘class-descriptions-boxable.csv’ saved [11255/11255]\n",
            "\n",
            "--2019-05-25 18:58:16--  https://storage.googleapis.com/openimages/2018_04/train/train-annotations-bbox.csv\n",
            "Resolving storage.googleapis.com (storage.googleapis.com)... 172.217.218.128, 2a00:1450:4013:c03::80\n",
            "Connecting to storage.googleapis.com (storage.googleapis.com)|172.217.218.128|:443... connected.\n",
            "HTTP request sent, awaiting response... 200 OK\n",
            "Length: 1194033454 (1.1G) [text/csv]\n",
            "Saving to: ‘train-annotations-bbox.csv’\n",
            "\n",
            "train-annotations-b 100%[===================>]   1.11G   101MB/s    in 14s     \n",
            "\n",
            "2019-05-25 18:58:31 (81.1 MB/s) - ‘train-annotations-bbox.csv’ saved [1194033454/1194033454]\n",
            "\n",
            "--2019-05-25 18:58:32--  https://raw.githubusercontent.com/spmallick/learnopencv/master/YOLOv3-Training-Snowman-Detector/classes.names\n",
            "Resolving raw.githubusercontent.com (raw.githubusercontent.com)... 151.101.0.133, 151.101.64.133, 151.101.128.133, ...\n",
            "Connecting to raw.githubusercontent.com (raw.githubusercontent.com)|151.101.0.133|:443... connected.\n",
            "HTTP request sent, awaiting response... 200 OK\n",
            "Length: 8 [text/plain]\n",
            "Saving to: ‘classes.names’\n",
            "\n",
            "classes.names       100%[===================>]       8  --.-KB/s    in 0s      \n",
            "\n",
            "2019-05-25 18:58:32 (2.17 MB/s) - ‘classes.names’ saved [8/8]\n",
            "\n",
            "--2019-05-25 18:58:33--  https://raw.githubusercontent.com/spmallick/learnopencv/master/YOLOv3-Training-Snowman-Detector/darknet-yolov3.cfg\n",
            "Resolving raw.githubusercontent.com (raw.githubusercontent.com)... 151.101.0.133, 151.101.64.133, 151.101.128.133, ...\n",
            "Connecting to raw.githubusercontent.com (raw.githubusercontent.com)|151.101.0.133|:443... connected.\n",
            "HTTP request sent, awaiting response... 200 OK\n",
            "Length: 8446 (8.2K) [text/plain]\n",
            "Saving to: ‘darknet-yolov3.cfg’\n",
            "\n",
            "darknet-yolov3.cfg  100%[===================>]   8.25K  --.-KB/s    in 0s      \n",
            "\n",
            "2019-05-25 18:58:33 (113 MB/s) - ‘darknet-yolov3.cfg’ saved [8446/8446]\n",
            "\n",
            "--2019-05-25 18:58:34--  https://raw.githubusercontent.com/spmallick/learnopencv/master/YOLOv3-Training-Snowman-Detector/getDataFromOpenImages_snowman.py\n",
            "Resolving raw.githubusercontent.com (raw.githubusercontent.com)... 151.101.0.133, 151.101.64.133, 151.101.128.133, ...\n",
            "Connecting to raw.githubusercontent.com (raw.githubusercontent.com)|151.101.0.133|:443... connected.\n",
            "HTTP request sent, awaiting response... 200 OK\n",
            "Length: 1582 (1.5K) [text/plain]\n",
            "Saving to: ‘getDataFromOpenImages_snowman.py’\n",
            "\n",
            "getDataFromOpenImag 100%[===================>]   1.54K  --.-KB/s    in 0s      \n",
            "\n",
            "2019-05-25 18:58:34 (330 MB/s) - ‘getDataFromOpenImages_snowman.py’ saved [1582/1582]\n",
            "\n",
            "--2019-05-25 18:58:35--  https://raw.githubusercontent.com/spmallick/learnopencv/master/YOLOv3-Training-Snowman-Detector/object_detection_yolo.py\n",
            "Resolving raw.githubusercontent.com (raw.githubusercontent.com)... 151.101.0.133, 151.101.64.133, 151.101.128.133, ...\n",
            "Connecting to raw.githubusercontent.com (raw.githubusercontent.com)|151.101.0.133|:443... connected.\n",
            "HTTP request sent, awaiting response... 200 OK\n",
            "Length: 6851 (6.7K) [text/plain]\n",
            "Saving to: ‘object_detection_yolo.py’\n",
            "\n",
            "object_detection_yo 100%[===================>]   6.69K  --.-KB/s    in 0s      \n",
            "\n",
            "2019-05-25 18:58:35 (71.5 MB/s) - ‘object_detection_yolo.py’ saved [6851/6851]\n",
            "\n",
            "--2019-05-25 18:58:37--  https://raw.githubusercontent.com/spmallick/learnopencv/master/YOLOv3-Training-Snowman-Detector/plotTrainLoss.py\n",
            "Resolving raw.githubusercontent.com (raw.githubusercontent.com)... 151.101.0.133, 151.101.64.133, 151.101.128.133, ...\n",
            "Connecting to raw.githubusercontent.com (raw.githubusercontent.com)|151.101.0.133|:443... connected.\n",
            "HTTP request sent, awaiting response... 200 OK\n",
            "Length: 663 [text/plain]\n",
            "Saving to: ‘plotTrainLoss.py’\n",
            "\n",
            "plotTrainLoss.py    100%[===================>]     663  --.-KB/s    in 0s      \n",
            "\n",
            "2019-05-25 18:58:37 (152 MB/s) - ‘plotTrainLoss.py’ saved [663/663]\n",
            "\n",
            "--2019-05-25 18:58:38--  https://raw.githubusercontent.com/spmallick/learnopencv/master/YOLOv3-Training-Snowman-Detector/splitTrainAndTest.py\n",
            "Resolving raw.githubusercontent.com (raw.githubusercontent.com)... 151.101.0.133, 151.101.64.133, 151.101.128.133, ...\n",
            "Connecting to raw.githubusercontent.com (raw.githubusercontent.com)|151.101.0.133|:443... connected.\n",
            "HTTP request sent, awaiting response... 200 OK\n",
            "Length: 673 [text/plain]\n",
            "Saving to: ‘splitTrainAndTest.py’\n",
            "\n",
            "splitTrainAndTest.p 100%[===================>]     673  --.-KB/s    in 0s      \n",
            "\n",
            "2019-05-25 18:58:38 (127 MB/s) - ‘splitTrainAndTest.py’ saved [673/673]\n",
            "\n"
          ],
          "name": "stdout"
        }
      ]
    },
    {
      "cell_type": "code",
      "metadata": {
        "id": "1S32Wie5XHJM",
        "colab_type": "code",
        "colab": {
          "base_uri": "https://localhost:8080/",
          "height": 1423
        },
        "outputId": "f44a71e0-0104-4e73-ea46-f9c5c852797f"
      },
      "source": [
        "!python3 getDataFromOpenImages_snowman.py"
      ],
      "execution_count": 0,
      "outputs": [
        {
          "output_type": "stream",
          "text": [
            "Class 0 : Snowman\n",
            "grep /m/0152hh train-annotations-bbox.csv\n",
            "Total number of annotations : 770\n",
            "annotation count : 1\n",
            "annotation count : 2\n",
            "annotation count : 3\n",
            "annotation count : 4\n",
            "annotation count : 5\n",
            "annotation count : 6\n",
            "annotation count : 7\n",
            "annotation count : 8\n",
            "annotation count : 9\n",
            "annotation count : 10\n",
            "annotation count : 11\n",
            "annotation count : 12\n",
            "annotation count : 13\n",
            "annotation count : 14\n",
            "annotation count : 15\n",
            "annotation count : 16\n",
            "annotation count : 17\n",
            "annotation count : 18\n",
            "annotation count : 19\n",
            "annotation count : 20\n",
            "annotation count : 21\n",
            "annotation count : 22\n",
            "annotation count : 23\n",
            "annotation count : 24\n",
            "annotation count : 25\n",
            "annotation count : 26\n",
            "annotation count : 27\n",
            "annotation count : 28\n",
            "annotation count : 29\n",
            "annotation count : 30\n",
            "annotation count : 31\n",
            "annotation count : 32\n",
            "annotation count : 33\n",
            "annotation count : 34\n",
            "annotation count : 35\n",
            "annotation count : 36\n",
            "annotation count : 37\n",
            "annotation count : 38\n",
            "annotation count : 39\n",
            "annotation count : 40\n",
            "annotation count : 41\n",
            "annotation count : 42\n",
            "annotation count : 43\n",
            "annotation count : 44\n",
            "annotation count : 45\n",
            "annotation count : 46\n",
            "annotation count : 47\n",
            "annotation count : 48\n",
            "annotation count : 49\n",
            "annotation count : 50\n",
            "annotation count : 51\n",
            "annotation count : 52\n",
            "annotation count : 53\n",
            "annotation count : 54\n",
            "annotation count : 55\n",
            "annotation count : 56\n",
            "annotation count : 57\n",
            "annotation count : 58\n",
            "annotation count : 59\n",
            "annotation count : 60\n",
            "annotation count : 61\n",
            "annotation count : 62\n",
            "annotation count : 63\n",
            "annotation count : 64\n",
            "annotation count : 65\n",
            "annotation count : 66\n",
            "annotation count : 67\n",
            "annotation count : 68\n",
            "annotation count : 69\n",
            "annotation count : 70\n",
            "annotation count : 71\n",
            "annotation count : 72\n",
            "annotation count : 73\n",
            "annotation count : 74\n",
            "annotation count : 75\n",
            "annotation count : 76\n",
            "annotation count : 77\n",
            "annotation count : 78\n"
          ],
          "name": "stdout"
        }
      ]
    },
    {
      "cell_type": "code",
      "metadata": {
        "id": "NtfSexhEXIoI",
        "colab_type": "code",
        "colab": {}
      },
      "source": [
        "!python3 splitTrainAndTest.py /content/JPEGImages\n",
        "!git clone https://github.com/pjreddie/darknet\n",
        "%cd darknet\n",
        "!make\n",
        "!wget https://pjreddie.com/media/files/darknet53.conv.74 -O /content/darknet/darknet53.conv.74"
      ],
      "execution_count": 0,
      "outputs": []
    },
    {
      "cell_type": "code",
      "metadata": {
        "id": "DQ2wYKzpXN6L",
        "colab_type": "code",
        "colab": {}
      },
      "source": [
        "!./darknet detector train /content/darknet.data /content/darknet-yolov3.cfg ./darknet53.conv.74 > /content/train.log"
      ],
      "execution_count": 0,
      "outputs": []
    }
  ]
}